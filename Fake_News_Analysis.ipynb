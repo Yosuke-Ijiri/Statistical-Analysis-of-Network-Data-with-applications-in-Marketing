{
 "cells": [
  {
   "cell_type": "markdown",
   "metadata": {},
   "source": [
    "<img src=\"./images/logo-ensae.jpg\" width = 40%><img src=\"./images/logo-ipparis.jpg\" width = 30%>"
   ]
  },
  {
   "cell_type": "markdown",
   "metadata": {},
   "source": [
    "**\"Statistical Analysis of Network Data with applications in Marketing\", S2 2018-19** \n",
    "# *Fake News Analysis*  \n",
    "\n",
    "**Santiago CÓRDOBA MUÑOZ**, *Mastère Spécialisé Data Science, ENSAE ParisTech*  \n",
    "**Yosuke IJIRI**, *Mastère Spécialisé Data Science, ENSAE ParisTech*  "
   ]
  },
  {
   "cell_type": "markdown",
   "metadata": {},
   "source": [
    "## Abstract\n",
    "Blablabla"
   ]
  },
  {
   "cell_type": "markdown",
   "metadata": {},
   "source": [
    "## 1. Introduction"
   ]
  },
  {
   "cell_type": "code",
   "execution_count": 2,
   "metadata": {},
   "outputs": [
    {
     "data": {
      "text/html": [
       "2"
      ],
      "text/latex": [
       "2"
      ],
      "text/markdown": [
       "2"
      ],
      "text/plain": [
       "[1] 2"
      ]
     },
     "metadata": {},
     "output_type": "display_data"
    }
   ],
   "source": [
    "1+1"
   ]
  },
  {
   "cell_type": "markdown",
   "metadata": {},
   "source": [
    "## Reference\n",
    "- Combating Fake News: A Survey on Identification and Mitigation Techniques/\n",
    "Arizona Board of Regents https://github.com/KaiDMML/FakeNewsNet"
   ]
  }
 ],
 "metadata": {
  "kernelspec": {
   "display_name": "R",
   "language": "R",
   "name": "ir"
  },
  "language_info": {
   "codemirror_mode": "r",
   "file_extension": ".r",
   "mimetype": "text/x-r-source",
   "name": "R",
   "pygments_lexer": "r",
   "version": "3.5.2"
  }
 },
 "nbformat": 4,
 "nbformat_minor": 2
}
